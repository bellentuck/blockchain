{
 "cells": [
  {
   "cell_type": "markdown",
   "metadata": {},
   "source": [
    "https://medium.com/crypto-currently/lets-build-the-tiniest-blockchain-e70965a248b\n",
    "\n",
    "\n",
    "background concepts:\n",
    "\n",
    "1. \"Public Database\" - decentralized ledger - many copies, publicly available.\n",
    "\n",
    "2. \"Immutable\" - immutability - \"when something is on the block chain, it's recorded permanently.\"\n",
    "\n",
    "\n",
    "\n",
    "\"What a hash is is basically a form of unique identifier for something\"\n",
    "e.g., hash table of unique numbers\n",
    "\n",
    "\n",
    "\"If we can hash something that basically means we can make a number out of it.\"\n",
    "\n",
    "Hash fn a pure function. Same in same out. If you input anything, it will always give you the same number back."
   ]
  },
  {
   "cell_type": "markdown",
   "metadata": {},
   "source": []
  },
  {
   "cell_type": "code",
   "execution_count": 1,
   "metadata": {
    "collapsed": true
   },
   "outputs": [],
   "source": [
    "import hashlib as hasher\n",
    "import datetime as date\n",
    "import flask"
   ]
  },
  {
   "cell_type": "code",
   "execution_count": 13,
   "metadata": {},
   "outputs": [
    {
     "data": {
      "text/plain": [
       "8317180311706165111"
      ]
     },
     "execution_count": 13,
     "metadata": {},
     "output_type": "execute_result"
    }
   ],
   "source": [
    "hash('0')"
   ]
  },
  {
   "cell_type": "code",
   "execution_count": null,
   "metadata": {
    "collapsed": true
   },
   "outputs": [],
   "source": [
    "# See these following functions four:"
   ]
  },
  {
   "cell_type": "code",
   "execution_count": 2,
   "metadata": {
    "collapsed": true
   },
   "outputs": [],
   "source": [
    "class Block:\n",
    "    def __init__(self, index, timestamp, data, previous_hash):\n",
    "        self.index = index\n",
    "        self.timestamp = timestamp\n",
    "        self.data = data\n",
    "        self.previous_hash = previous_hash  #open(wordlist,\"r\",encoding='utf-8')#.encode('utf-8')\n",
    "        self.hash = self.hash_block()\n",
    "        \n",
    "    def hash_block(self):\n",
    "        sha = hasher.sha256()\n",
    "        sha.update((str(self.index) + \n",
    "                   str(self.timestamp) + \n",
    "                   str(self.data) + \n",
    "                   str(self.previous_hash)).encode())\n",
    "        return sha.hexdigest()"
   ]
  },
  {
   "cell_type": "code",
   "execution_count": 6,
   "metadata": {
    "collapsed": true
   },
   "outputs": [],
   "source": [
    "def create_genesis_block():\n",
    "    # Manually create a block\n",
    "    return Block(0, date.datetime.now(), \"Genesis Block\", \"0\")"
   ]
  },
  {
   "cell_type": "code",
   "execution_count": 7,
   "metadata": {
    "collapsed": true
   },
   "outputs": [],
   "source": [
    "def next_block(last_block):\n",
    "    this_index = last_block.index + 1\n",
    "    this_timestamp = date.datetime.now()\n",
    "    this_data = \"Block no.\" + str(this_index)\n",
    "    this_hash = last_block.hash\n",
    "    return Block(this_index, this_timestamp, this_data, this_hash)"
   ]
  },
  {
   "cell_type": "code",
   "execution_count": 8,
   "metadata": {},
   "outputs": [],
   "source": [
    "block_one = create_genesis_block()\n",
    "# # pw_bytes = pw.encode('utf-8')\n",
    "# salt_bytes = salt.encode('utf-8')\n",
    "# return hashlib.sha256(pw_bytes + salt_bytes).hexdigest() + \",\" + salt"
   ]
  },
  {
   "cell_type": "code",
   "execution_count": 9,
   "metadata": {},
   "outputs": [
    {
     "data": {
      "text/plain": [
       "8683134476138535853"
      ]
     },
     "execution_count": 9,
     "metadata": {},
     "output_type": "execute_result"
    }
   ],
   "source": [
    "hash('a')"
   ]
  },
  {
   "cell_type": "code",
   "execution_count": 8,
   "metadata": {},
   "outputs": [
    {
     "data": {
      "text/plain": [
       "-3729050390798428654"
      ]
     },
     "execution_count": 8,
     "metadata": {},
     "output_type": "execute_result"
    }
   ],
   "source": [
    "hash('a')"
   ]
  },
  {
   "cell_type": "code",
   "execution_count": 5,
   "metadata": {},
   "outputs": [
    {
     "data": {
      "text/plain": [
       "-3344690774329462768"
      ]
     },
     "execution_count": 5,
     "metadata": {},
     "output_type": "execute_result"
    }
   ],
   "source": [
    "hash('56`')"
   ]
  },
  {
   "cell_type": "code",
   "execution_count": null,
   "metadata": {
    "collapsed": true
   },
   "outputs": [],
   "source": [
    "# so, whenever you start a new session, ok. hashs "
   ]
  },
  {
   "cell_type": "code",
   "execution_count": 20,
   "metadata": {},
   "outputs": [
    {
     "data": {
      "text/plain": [
       "1466229570753175056"
      ]
     },
     "execution_count": 20,
     "metadata": {},
     "output_type": "execute_result"
    }
   ],
   "source": [
    "hash('56`')"
   ]
  },
  {
   "cell_type": "code",
   "execution_count": 53,
   "metadata": {
    "collapsed": true
   },
   "outputs": [],
   "source": [
    "#Takeaways:\n",
    "# so you can make a hash of anything? as in make them arbitrarily complex?\n",
    "# -- yes, as long as its a stream of bits and we have a hashing alg that can handle it. \n",
    "# \"as long as we can make it a string and run python's sha256 on it we're golden.\" \n",
    "\n",
    "\n",
    "#asides...\n",
    "# 64 -> 256 bit ? (um)\n",
    "# What's to prevent too many values, like inflation?\n",
    "# on the contrary Must values be scarce?"
   ]
  },
  {
   "cell_type": "code",
   "execution_count": 10,
   "metadata": {},
   "outputs": [],
   "source": [
    "block_two = Block(1, date.datetime.now(), \"This is 2\", block_one.hash)"
   ]
  },
  {
   "cell_type": "code",
   "execution_count": 39,
   "metadata": {},
   "outputs": [
    {
     "data": {
      "text/plain": [
       "True"
      ]
     },
     "execution_count": 39,
     "metadata": {},
     "output_type": "execute_result"
    }
   ],
   "source": [
    "block_two.previous_hash == block_one.hash"
   ]
  },
  {
   "cell_type": "code",
   "execution_count": 42,
   "metadata": {
    "collapsed": true
   },
   "outputs": [],
   "source": [
    "#blockchain = [genesis_block]\n",
    "blockchain = [create_genesis_block()]"
   ]
  },
  {
   "cell_type": "code",
   "execution_count": 43,
   "metadata": {},
   "outputs": [
    {
     "data": {
      "text/plain": [
       "[<__main__.Block at 0x102dbc668>]"
      ]
     },
     "execution_count": 43,
     "metadata": {},
     "output_type": "execute_result"
    }
   ],
   "source": [
    "blockchain"
   ]
  },
  {
   "cell_type": "code",
   "execution_count": 46,
   "metadata": {
    "collapsed": true
   },
   "outputs": [],
   "source": [
    "thisIsABlockchain = [create_genesis_block()]"
   ]
  },
  {
   "cell_type": "code",
   "execution_count": 47,
   "metadata": {},
   "outputs": [
    {
     "data": {
      "text/plain": [
       "[<__main__.ThisIsABlock at 0x102d96828>]"
      ]
     },
     "execution_count": 47,
     "metadata": {},
     "output_type": "execute_result"
    }
   ],
   "source": [
    "thisIsABlockchain"
   ]
  },
  {
   "cell_type": "code",
   "execution_count": 48,
   "metadata": {},
   "outputs": [
    {
     "data": {
      "text/plain": [
       "1"
      ]
     },
     "execution_count": 48,
     "metadata": {},
     "output_type": "execute_result"
    }
   ],
   "source": [
    "len(blockchain)"
   ]
  },
  {
   "cell_type": "code",
   "execution_count": 49,
   "metadata": {},
   "outputs": [
    {
     "data": {
      "text/plain": [
       "<__main__.Block at 0x102dbc668>"
      ]
     },
     "execution_count": 49,
     "metadata": {},
     "output_type": "execute_result"
    }
   ],
   "source": [
    "blockchain[0]"
   ]
  },
  {
   "cell_type": "code",
   "execution_count": 51,
   "metadata": {
    "collapsed": true
   },
   "outputs": [],
   "source": [
    "blockchain.append(block_one)"
   ]
  },
  {
   "cell_type": "code",
   "execution_count": 52,
   "metadata": {},
   "outputs": [
    {
     "data": {
      "text/plain": [
       "[<__main__.Block at 0x102dbc668>, <__main__.Block at 0x1054c4208>]"
      ]
     },
     "execution_count": 52,
     "metadata": {},
     "output_type": "execute_result"
    }
   ],
   "source": [
    "blockchain"
   ]
  },
  {
   "cell_type": "code",
   "execution_count": 57,
   "metadata": {
    "collapsed": true
   },
   "outputs": [],
   "source": [
    "# after the genesis block\n",
    "number_of_blocks_to_add = 8"
   ]
  },
  {
   "cell_type": "code",
   "execution_count": 63,
   "metadata": {},
   "outputs": [
    {
     "name": "stdout",
     "output_type": "stream",
     "text": [
      "Block #4 has been added to the blockchain!\n",
      "Hash: 03818ef9c27c7acae16a4c325c50398777df9ddd7ac7a74d4e9271236f9a950e\n",
      "\n",
      "Block #5 has been added to the blockchain!\n",
      "Hash: 2bc2971a1e8ad9b5d74a31bfeb9b0abe07e9fcbd7a5fbf8b0fd5840b14f4d466\n",
      "\n",
      "Block #6 has been added to the blockchain!\n",
      "Hash: 013919f3630a516808b60b770f43cbee61d0bcb83e17095ece4e3727e14c4ebd\n",
      "\n",
      "Block #7 has been added to the blockchain!\n",
      "Hash: 06d4b677eb6bfed9378cda0447fefbc1bdb33c76b3cad3f86f93ede0b59b3b6f\n",
      "\n",
      "Block #8 has been added to the blockchain!\n",
      "Hash: af811bc161ddc3f16247b6bdc5cad0d8914b6e2f298629126ef73572a2c06d6b\n",
      "\n",
      "Block #9 has been added to the blockchain!\n",
      "Hash: 6f637779c45327d3de93a5d61e4486c3702d321025528060516cba4ef2c3bdf1\n",
      "\n",
      "Block #10 has been added to the blockchain!\n",
      "Hash: 512a3e11b9e8a0ac929082e0d64bcd48a1ab40da9bcc4c0f9f64ea8bae1f701f\n",
      "\n",
      "Block #11 has been added to the blockchain!\n",
      "Hash: c3bae40ea4a715d8a6f082c23d26f9c3c2a5381e52bcf8a4f2153118b7e05bb4\n",
      "\n"
     ]
    }
   ],
   "source": [
    "#def add_blocks(genesis_block)\n",
    "previous_block = blockchain[4]\n",
    "# add blocks \n",
    "for i in range(0, number_of_blocks_to_add):\n",
    "    block_to_add = next_block(previous_block)\n",
    "    blockchain.append(block_to_add)\n",
    "    previous_block = block_to_add\n",
    "    # Message the addition\n",
    "    print (\"Block #{} has been added to the blockchain!\".format(block_to_add.index))\n",
    "    print (\"Hash: {}\\n\".format(block_to_add.hash))"
   ]
  },
  {
   "cell_type": "code",
   "execution_count": 64,
   "metadata": {},
   "outputs": [
    {
     "data": {
      "text/plain": [
       "[<__main__.Block at 0x102dbc668>,\n",
       " <__main__.Block at 0x1054c4208>,\n",
       " <__main__.Block at 0x104d826a0>,\n",
       " <__main__.Block at 0x1054d5048>,\n",
       " <__main__.Block at 0x1054d59e8>,\n",
       " <__main__.Block at 0x1054aa3c8>,\n",
       " <__main__.Block at 0x102db67b8>,\n",
       " <__main__.Block at 0x102db6198>,\n",
       " <__main__.Block at 0x10549a128>,\n",
       " <__main__.Block at 0x104d982e8>,\n",
       " <__main__.Block at 0x104d95a20>,\n",
       " <__main__.Block at 0x104d95b00>,\n",
       " <__main__.Block at 0x104d95048>,\n",
       " <__main__.Block at 0x104d95710>,\n",
       " <__main__.Block at 0x104d95e48>,\n",
       " <__main__.Block at 0x102db69e8>,\n",
       " <__main__.Block at 0x1054d53c8>,\n",
       " <__main__.Block at 0x1054d54a8>]"
      ]
     },
     "execution_count": 64,
     "metadata": {},
     "output_type": "execute_result"
    }
   ],
   "source": [
    "blockchain"
   ]
  },
  {
   "cell_type": "markdown",
   "metadata": {},
   "source": [
    "#### part 2, feat. flask (import flask)"
   ]
  },
  {
   "cell_type": "code",
   "execution_count": null,
   "metadata": {},
   "outputs": [
    {
     "name": "stdout",
     "output_type": "stream",
     "text": [
      "Password:\n",
      "Password:"
     ]
    }
   ],
   "source": [
    "# !sudo pip uninstall flask\n",
    "# !sudo pip install flask=0.9"
   ]
  },
  {
   "cell_type": "code",
   "execution_count": 68,
   "metadata": {},
   "outputs": [
    {
     "data": {
      "text/plain": [
       "flask.app.Flask"
      ]
     },
     "execution_count": 68,
     "metadata": {},
     "output_type": "execute_result"
    }
   ],
   "source": [
    "flask.Flask"
   ]
  },
  {
   "cell_type": "code",
   "execution_count": 69,
   "metadata": {
    "collapsed": true
   },
   "outputs": [],
   "source": [
    "# - server\n",
    "# - define message-sending interface "
   ]
  },
  {
   "cell_type": "code",
   "execution_count": 24,
   "metadata": {
    "collapsed": true
   },
   "outputs": [],
   "source": [
    "from flask import Flask\n",
    "from flask import request\n",
    "node = Flask(__name__)"
   ]
  },
  {
   "cell_type": "code",
   "execution_count": 27,
   "metadata": {},
   "outputs": [
    {
     "ename": "AssertionError",
     "evalue": "View function mapping is overwriting an existing endpoint function: transaction",
     "output_type": "error",
     "traceback": [
      "\u001b[0;31m---------------------------------------------------------------------------\u001b[0m",
      "\u001b[0;31mAssertionError\u001b[0m                            Traceback (most recent call last)",
      "\u001b[0;32m<ipython-input-27-fb3cc74d2ab8>\u001b[0m in \u001b[0;36m<module>\u001b[0;34m()\u001b[0m\n\u001b[1;32m     16\u001b[0m \u001b[0;31m#     pass\u001b[0m\u001b[0;34m\u001b[0m\u001b[0;34m\u001b[0m\u001b[0m\n\u001b[1;32m     17\u001b[0m \u001b[0;34m\u001b[0m\u001b[0m\n\u001b[0;32m---> 18\u001b[0;31m \u001b[0;34m@\u001b[0m\u001b[0mnode\u001b[0m\u001b[0;34m.\u001b[0m\u001b[0mroute\u001b[0m\u001b[0;34m(\u001b[0m\u001b[0;34m'/txion'\u001b[0m\u001b[0;34m,\u001b[0m \u001b[0mendpoint\u001b[0m\u001b[0;34m=\u001b[0m\u001b[0;34m'transaction'\u001b[0m\u001b[0;34m)\u001b[0m\u001b[0;31m#methods=['POST'])\u001b[0m\u001b[0;34m\u001b[0m\u001b[0m\n\u001b[0m\u001b[1;32m     19\u001b[0m \u001b[0;32mdef\u001b[0m \u001b[0mtransaction\u001b[0m\u001b[0;34m(\u001b[0m\u001b[0;34m)\u001b[0m\u001b[0;34m:\u001b[0m\u001b[0;34m\u001b[0m\u001b[0m\n\u001b[1;32m     20\u001b[0m     \u001b[0;32mif\u001b[0m \u001b[0mrequest\u001b[0m\u001b[0;34m.\u001b[0m\u001b[0mmethod\u001b[0m \u001b[0;34m==\u001b[0m \u001b[0;34m'POST'\u001b[0m\u001b[0;34m:\u001b[0m\u001b[0;34m\u001b[0m\u001b[0m\n",
      "\u001b[0;32m~/anaconda3/lib/python3.6/site-packages/flask/app.py\u001b[0m in \u001b[0;36mdecorator\u001b[0;34m(f)\u001b[0m\n\u001b[1;32m   1078\u001b[0m         \u001b[0;32mdef\u001b[0m \u001b[0mdecorator\u001b[0m\u001b[0;34m(\u001b[0m\u001b[0mf\u001b[0m\u001b[0;34m)\u001b[0m\u001b[0;34m:\u001b[0m\u001b[0;34m\u001b[0m\u001b[0m\n\u001b[1;32m   1079\u001b[0m             \u001b[0mendpoint\u001b[0m \u001b[0;34m=\u001b[0m \u001b[0moptions\u001b[0m\u001b[0;34m.\u001b[0m\u001b[0mpop\u001b[0m\u001b[0;34m(\u001b[0m\u001b[0;34m'endpoint'\u001b[0m\u001b[0;34m,\u001b[0m \u001b[0;32mNone\u001b[0m\u001b[0;34m)\u001b[0m\u001b[0;34m\u001b[0m\u001b[0m\n\u001b[0;32m-> 1080\u001b[0;31m             \u001b[0mself\u001b[0m\u001b[0;34m.\u001b[0m\u001b[0madd_url_rule\u001b[0m\u001b[0;34m(\u001b[0m\u001b[0mrule\u001b[0m\u001b[0;34m,\u001b[0m \u001b[0mendpoint\u001b[0m\u001b[0;34m,\u001b[0m \u001b[0mf\u001b[0m\u001b[0;34m,\u001b[0m \u001b[0;34m**\u001b[0m\u001b[0moptions\u001b[0m\u001b[0;34m)\u001b[0m\u001b[0;34m\u001b[0m\u001b[0m\n\u001b[0m\u001b[1;32m   1081\u001b[0m             \u001b[0;32mreturn\u001b[0m \u001b[0mf\u001b[0m\u001b[0;34m\u001b[0m\u001b[0m\n\u001b[1;32m   1082\u001b[0m         \u001b[0;32mreturn\u001b[0m \u001b[0mdecorator\u001b[0m\u001b[0;34m\u001b[0m\u001b[0m\n",
      "\u001b[0;32m~/anaconda3/lib/python3.6/site-packages/flask/app.py\u001b[0m in \u001b[0;36mwrapper_func\u001b[0;34m(self, *args, **kwargs)\u001b[0m\n\u001b[1;32m     62\u001b[0m                 \u001b[0;34m'database models and everything related at a central place '\u001b[0m\u001b[0;34m\u001b[0m\u001b[0m\n\u001b[1;32m     63\u001b[0m                 'before the application starts serving requests.')\n\u001b[0;32m---> 64\u001b[0;31m         \u001b[0;32mreturn\u001b[0m \u001b[0mf\u001b[0m\u001b[0;34m(\u001b[0m\u001b[0mself\u001b[0m\u001b[0;34m,\u001b[0m \u001b[0;34m*\u001b[0m\u001b[0margs\u001b[0m\u001b[0;34m,\u001b[0m \u001b[0;34m**\u001b[0m\u001b[0mkwargs\u001b[0m\u001b[0;34m)\u001b[0m\u001b[0;34m\u001b[0m\u001b[0m\n\u001b[0m\u001b[1;32m     65\u001b[0m     \u001b[0;32mreturn\u001b[0m \u001b[0mupdate_wrapper\u001b[0m\u001b[0;34m(\u001b[0m\u001b[0mwrapper_func\u001b[0m\u001b[0;34m,\u001b[0m \u001b[0mf\u001b[0m\u001b[0;34m)\u001b[0m\u001b[0;34m\u001b[0m\u001b[0m\n\u001b[1;32m     66\u001b[0m \u001b[0;34m\u001b[0m\u001b[0m\n",
      "\u001b[0;32m~/anaconda3/lib/python3.6/site-packages/flask/app.py\u001b[0m in \u001b[0;36madd_url_rule\u001b[0;34m(self, rule, endpoint, view_func, **options)\u001b[0m\n\u001b[1;32m   1049\u001b[0m             \u001b[0;32mif\u001b[0m \u001b[0mold_func\u001b[0m \u001b[0;32mis\u001b[0m \u001b[0;32mnot\u001b[0m \u001b[0;32mNone\u001b[0m \u001b[0;32mand\u001b[0m \u001b[0mold_func\u001b[0m \u001b[0;34m!=\u001b[0m \u001b[0mview_func\u001b[0m\u001b[0;34m:\u001b[0m\u001b[0;34m\u001b[0m\u001b[0m\n\u001b[1;32m   1050\u001b[0m                 raise AssertionError('View function mapping is overwriting an '\n\u001b[0;32m-> 1051\u001b[0;31m                                      'existing endpoint function: %s' % endpoint)\n\u001b[0m\u001b[1;32m   1052\u001b[0m             \u001b[0mself\u001b[0m\u001b[0;34m.\u001b[0m\u001b[0mview_functions\u001b[0m\u001b[0;34m[\u001b[0m\u001b[0mendpoint\u001b[0m\u001b[0;34m]\u001b[0m \u001b[0;34m=\u001b[0m \u001b[0mview_func\u001b[0m\u001b[0;34m\u001b[0m\u001b[0m\n\u001b[1;32m   1053\u001b[0m \u001b[0;34m\u001b[0m\u001b[0m\n",
      "\u001b[0;31mAssertionError\u001b[0m: View function mapping is overwriting an existing endpoint function: transaction"
     ]
    }
   ],
   "source": [
    "# store this node's transactions in a list\n",
    "this_nodes_transactions = []\n",
    "\n",
    "\n",
    "# decorator = augement a function with another function\n",
    "# can you decorate w/ arbitrarily many things?\n",
    "\n",
    "# @app.route(\"/path1\", endpoint='func1')\n",
    "# @exception_handler\n",
    "# def func1():\n",
    "#     pass\n",
    "\n",
    "# @app.route(\"/path2\", endpoint='func2')\n",
    "# @exception_handler\n",
    "# def func2():\n",
    "#     pass\n",
    "\n",
    "@node.route('/txion', endpoint='transaction')#methods=['POST'])\n",
    "def transaction():\n",
    "    if request.method == 'POST':\n",
    "        # on each new POST request, we extract transaction data\n",
    "        new_txion = request.get_json()\n",
    "        # then, add transaction to our list\n",
    "        this_nodes_transactions.append(new_txion)\n",
    "        # b/c transaction successfully submitted, log to console\n",
    "        print (\"New transaction\")\n",
    "        print (\"FROM: {}\".format(new_txion['from']))\n",
    "        print (\"TO: {}\".format(new_txion['to']))\n",
    "        print (\"AMOUNT {}\\n\".format(new_txion['amount']))\n",
    "        # Then we let the client know it worked out\n",
    "        return \"Transaction submission successful!\\n\"\n",
    "    \n",
    "#node.run()"
   ]
  },
  {
   "cell_type": "code",
   "execution_count": null,
   "metadata": {
    "collapsed": true
   },
   "outputs": [],
   "source": []
  },
  {
   "cell_type": "code",
   "execution_count": null,
   "metadata": {
    "collapsed": true
   },
   "outputs": [],
   "source": [
    "# curl -X POST -d '{from}: \"eric\", {to}: \"eric\", {amount}: 100}'"
   ]
  },
  {
   "cell_type": "code",
   "execution_count": 2,
   "metadata": {
    "collapsed": true
   },
   "outputs": [],
   "source": [
    "#blockchain\n",
    "#Block class definition"
   ]
  },
  {
   "cell_type": "code",
   "execution_count": 13,
   "metadata": {
    "collapsed": true
   },
   "outputs": [],
   "source": [
    "miner_address = \"q3nf394hjg-random-miner-address-34nf3i4nflkn3oi\""
   ]
  },
  {
   "cell_type": "code",
   "execution_count": 14,
   "metadata": {
    "collapsed": true
   },
   "outputs": [],
   "source": [
    "def proof_of_work(last_proof):\n",
    "    # Create a variable that we will use to find our next proof of work\n",
    "    incrementor = last_proof + 1\n",
    "    # Keep incrementing until it's in the range of whatever function you so choose\n",
    "    # E.g., until it's divisible by 9 as well as by the proof of work of the previous block in the chain.\n",
    "    while not (incrementor % 9 == 0 and incrementor % last_proof == 0):\n",
    "        incrementor += 1\n",
    "    # Once that number is found, we can return it as a proof of our work\n",
    "    return incrementor"
   ]
  },
  {
   "cell_type": "code",
   "execution_count": 28,
   "metadata": {},
   "outputs": [],
   "source": [
    "@node.route('/mine', methods=['GET'])\n",
    "def mine():\n",
    "    # Get the last proof of work\n",
    "    last_block = blockchain(len(blockchain) - 1)\n",
    "    last_proof = last_block.data['proof-of-work']\n",
    "    \n",
    "    # Find the proof of work for the current block being mined.\n",
    "    # Program hangs here until new proof of work found\n",
    "    proof = proof_of_work(last_proof)\n",
    "    \n",
    "    # Once we find a valid proof of work, we know we can mine a block\n",
    "    # So we reward the miner by adding a transaction to the list\n",
    "    this_nodes_transactions.append({\"from\": \"network\", \"to\": miner_address, \"amount\": 1})\n",
    "    \n",
    "    # Gather data needed to create a new block\n",
    "    new_block_data = {\n",
    "        \"proof-of-work\": proof,\n",
    "        \"transactions\": list(this_nodes_transactions)\n",
    "    }\n",
    "    new_block_index = last_block.index + 1\n",
    "    new_block_timestamp = this_timestamp = date.datetime.now()\n",
    "    last_block_hash = last_block.hash\n",
    "    \n",
    "    # Empty transactions list\n",
    "    this_nodes_transactions[:] = []\n",
    "    \n",
    "    # Create the new block\n",
    "    mined_block = Block(\n",
    "        new_block_index,\n",
    "        new_block_timestamp,\n",
    "        new_block_data,\n",
    "        last_block_hash\n",
    "    )\n",
    "    blockchain.append(mined_block)\n",
    "    \n",
    "    # Message client that we mined a block\n",
    "    return json.dumps({\n",
    "        \"index\": new_block_index,\n",
    "        \"timestamp\": str(new_block_timestamp),\n",
    "        \"data\": new_block_data,\n",
    "        \"hash\": last_block_hash\n",
    "    }) + \"\\n\""
   ]
  },
  {
   "cell_type": "code",
   "execution_count": null,
   "metadata": {
    "collapsed": true
   },
   "outputs": [],
   "source": [
    "# put data into your block header - put a hash of your commitment\n",
    "\n",
    "#\"the person with the longest chain is the person who mined it fastest\" - whoever completes alg fastest sends it out"
   ]
  },
  {
   "cell_type": "code",
   "execution_count": 29,
   "metadata": {
    "collapsed": true
   },
   "outputs": [],
   "source": [
    "@node.route('/blocks', methods=['GET'])\n",
    "def get_blocks():\n",
    "    chain_to_send = blockchain\n",
    "    \n",
    "    # Convert blocks into dictionaries to send as JSON later\n",
    "    for block in chain_to_send:\n",
    "        block_index = str(block.index)\n",
    "        block_timestamp = str(block.timestamp)\n",
    "        block_data = str(block.data)\n",
    "        block_hash = block.hash\n",
    "        block = {\n",
    "            \"index\": block_index,\n",
    "            \"timestamp\": block_timestamp,\n",
    "            \"data\": block_data,\n",
    "            \"hash\": block_hash\n",
    "        }\n",
    "        \n",
    "    # Send chain to whoever requested it\n",
    "    chain_to_send = json.dumps(chain_to_send)\n",
    "    return chain_to_send"
   ]
  },
  {
   "cell_type": "code",
   "execution_count": 17,
   "metadata": {
    "collapsed": true
   },
   "outputs": [],
   "source": [
    "def find_new_chains():\n",
    "    # Get blockchains of every other node\n",
    "    other_chains = []\n",
    "    for node_url in peer_nodes:\n",
    "        \n",
    "        # Get their chains using a GET request\n",
    "        block = request.get(node_url + '/blocks').content\n",
    "        \n",
    "        # Convert JSON obj to Python dict\n",
    "        block = json.nodes(block)\n",
    "        \n",
    "        # Add to our list\n",
    "        other_chains.append(block)\n",
    "        \n",
    "    return other_chains"
   ]
  },
  {
   "cell_type": "code",
   "execution_count": 18,
   "metadata": {
    "collapsed": true
   },
   "outputs": [],
   "source": [
    "def consensus():\n",
    "    # Get the blocks from other nodes\n",
    "    other_chains = find_new_chains()\n",
    "    \n",
    "    # If our chain not longest, store longest chain\n",
    "    longest_chain = blockchain\n",
    "    for chain in other_chains:\n",
    "        if len(longest_chain) < len(chain):\n",
    "            longest_chain = chain\n",
    "    \n",
    "    # If longest chain wasn't ours, we set our chain to longest\n",
    "    blockchain = longest_chain"
   ]
  },
  {
   "cell_type": "code",
   "execution_count": 26,
   "metadata": {},
   "outputs": [
    {
     "name": "stderr",
     "output_type": "stream",
     "text": [
      " * Running on http://127.0.0.1:5000/ (Press CTRL+C to quit)\n",
      "127.0.0.1 - - [01/Feb/2018 20:37:40] \"POST /txion HTTP/1.1\" 405 -\n"
     ]
    }
   ],
   "source": [
    "node.run()"
   ]
  },
  {
   "cell_type": "code",
   "execution_count": null,
   "metadata": {
    "collapsed": true
   },
   "outputs": [],
   "source": []
  }
 ],
 "metadata": {
  "kernelspec": {
   "display_name": "Python 3",
   "language": "python",
   "name": "python3"
  },
  "language_info": {
   "codemirror_mode": {
    "name": "ipython",
    "version": 3
   },
   "file_extension": ".py",
   "mimetype": "text/x-python",
   "name": "python",
   "nbconvert_exporter": "python",
   "pygments_lexer": "ipython3",
   "version": "3.6.3"
  }
 },
 "nbformat": 4,
 "nbformat_minor": 2
}
